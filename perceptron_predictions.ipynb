{
 "cells": [
  {
   "cell_type": "markdown",
   "id": "9fa1fcf6",
   "metadata": {},
   "source": [
    "# Perceptron from scratch"
   ]
  },
  {
   "cell_type": "markdown",
   "id": "a87da986",
   "metadata": {},
   "source": [
    "$\\hat{y} = f(\\vec{w}\\cdot \\vec{x} + b) = f(w_1 x_1 + w_2 x_2 + \\dots + w_nx_n + b)$"
   ]
  },
  {
   "cell_type": "code",
   "execution_count": 1,
   "id": "dc29f436",
   "metadata": {},
   "outputs": [],
   "source": [
    "import numpy as np\n",
    "import pandas as pd\n",
    "import matplotlib.pyplot as plt"
   ]
  },
  {
   "cell_type": "code",
   "execution_count": 2,
   "id": "ef76a62d",
   "metadata": {
    "scrolled": true
   },
   "outputs": [
    {
     "data": {
      "text/html": [
       "<div>\n",
       "<style scoped>\n",
       "    .dataframe tbody tr th:only-of-type {\n",
       "        vertical-align: middle;\n",
       "    }\n",
       "\n",
       "    .dataframe tbody tr th {\n",
       "        vertical-align: top;\n",
       "    }\n",
       "\n",
       "    .dataframe thead th {\n",
       "        text-align: right;\n",
       "    }\n",
       "</style>\n",
       "<table border=\"1\" class=\"dataframe\">\n",
       "  <thead>\n",
       "    <tr style=\"text-align: right;\">\n",
       "      <th></th>\n",
       "      <th>x1</th>\n",
       "      <th>x2</th>\n",
       "    </tr>\n",
       "  </thead>\n",
       "  <tbody>\n",
       "    <tr>\n",
       "      <th>0</th>\n",
       "      <td>0.882494</td>\n",
       "      <td>0.964366</td>\n",
       "    </tr>\n",
       "    <tr>\n",
       "      <th>1</th>\n",
       "      <td>0.630311</td>\n",
       "      <td>0.628309</td>\n",
       "    </tr>\n",
       "    <tr>\n",
       "      <th>2</th>\n",
       "      <td>0.849369</td>\n",
       "      <td>0.284691</td>\n",
       "    </tr>\n",
       "    <tr>\n",
       "      <th>3</th>\n",
       "      <td>0.520905</td>\n",
       "      <td>0.093751</td>\n",
       "    </tr>\n",
       "    <tr>\n",
       "      <th>4</th>\n",
       "      <td>0.473206</td>\n",
       "      <td>0.800319</td>\n",
       "    </tr>\n",
       "  </tbody>\n",
       "</table>\n",
       "</div>"
      ],
      "text/plain": [
       "         x1        x2\n",
       "0  0.882494  0.964366\n",
       "1  0.630311  0.628309\n",
       "2  0.849369  0.284691\n",
       "3  0.520905  0.093751\n",
       "4  0.473206  0.800319"
      ]
     },
     "execution_count": 2,
     "metadata": {},
     "output_type": "execute_result"
    }
   ],
   "source": [
    "data = pd.DataFrame(columns=('x1', 'x2'), data=np.random.uniform(size=(600,2)))\n",
    "data.head()"
   ]
  },
  {
   "cell_type": "code",
   "execution_count": 4,
   "id": "f55f082c",
   "metadata": {},
   "outputs": [],
   "source": [
    "def compute_y(inputs):\n",
    "    print(inputs)\n",
    "    y = int(np.sum(inputs) > 1)\n",
    "    return y\n",
    "data['y'] = data.apply(compute_y, axis=1)"
   ]
  },
  {
   "cell_type": "code",
   "execution_count": 7,
   "id": "8a0afc87",
   "metadata": {
    "scrolled": true
   },
   "outputs": [
    {
     "data": {
      "text/html": [
       "<div>\n",
       "<style scoped>\n",
       "    .dataframe tbody tr th:only-of-type {\n",
       "        vertical-align: middle;\n",
       "    }\n",
       "\n",
       "    .dataframe tbody tr th {\n",
       "        vertical-align: top;\n",
       "    }\n",
       "\n",
       "    .dataframe thead th {\n",
       "        text-align: right;\n",
       "    }\n",
       "</style>\n",
       "<table border=\"1\" class=\"dataframe\">\n",
       "  <thead>\n",
       "    <tr style=\"text-align: right;\">\n",
       "      <th></th>\n",
       "      <th>x1</th>\n",
       "      <th>x2</th>\n",
       "      <th>y</th>\n",
       "    </tr>\n",
       "  </thead>\n",
       "  <tbody>\n",
       "    <tr>\n",
       "      <th>0</th>\n",
       "      <td>0.882494</td>\n",
       "      <td>0.964366</td>\n",
       "      <td>1</td>\n",
       "    </tr>\n",
       "    <tr>\n",
       "      <th>1</th>\n",
       "      <td>0.630311</td>\n",
       "      <td>0.628309</td>\n",
       "      <td>1</td>\n",
       "    </tr>\n",
       "    <tr>\n",
       "      <th>2</th>\n",
       "      <td>0.849369</td>\n",
       "      <td>0.284691</td>\n",
       "      <td>1</td>\n",
       "    </tr>\n",
       "    <tr>\n",
       "      <th>3</th>\n",
       "      <td>0.520905</td>\n",
       "      <td>0.093751</td>\n",
       "      <td>0</td>\n",
       "    </tr>\n",
       "    <tr>\n",
       "      <th>4</th>\n",
       "      <td>0.473206</td>\n",
       "      <td>0.800319</td>\n",
       "      <td>1</td>\n",
       "    </tr>\n",
       "    <tr>\n",
       "      <th>...</th>\n",
       "      <td>...</td>\n",
       "      <td>...</td>\n",
       "      <td>...</td>\n",
       "    </tr>\n",
       "    <tr>\n",
       "      <th>595</th>\n",
       "      <td>0.863836</td>\n",
       "      <td>0.674028</td>\n",
       "      <td>1</td>\n",
       "    </tr>\n",
       "    <tr>\n",
       "      <th>596</th>\n",
       "      <td>0.309469</td>\n",
       "      <td>0.131267</td>\n",
       "      <td>0</td>\n",
       "    </tr>\n",
       "    <tr>\n",
       "      <th>597</th>\n",
       "      <td>0.362041</td>\n",
       "      <td>0.248114</td>\n",
       "      <td>0</td>\n",
       "    </tr>\n",
       "    <tr>\n",
       "      <th>598</th>\n",
       "      <td>0.187987</td>\n",
       "      <td>0.269461</td>\n",
       "      <td>0</td>\n",
       "    </tr>\n",
       "    <tr>\n",
       "      <th>599</th>\n",
       "      <td>0.770055</td>\n",
       "      <td>0.103789</td>\n",
       "      <td>0</td>\n",
       "    </tr>\n",
       "  </tbody>\n",
       "</table>\n",
       "<p>600 rows × 3 columns</p>\n",
       "</div>"
      ],
      "text/plain": [
       "           x1        x2  y\n",
       "0    0.882494  0.964366  1\n",
       "1    0.630311  0.628309  1\n",
       "2    0.849369  0.284691  1\n",
       "3    0.520905  0.093751  0\n",
       "4    0.473206  0.800319  1\n",
       "..        ...       ... ..\n",
       "595  0.863836  0.674028  1\n",
       "596  0.309469  0.131267  0\n",
       "597  0.362041  0.248114  0\n",
       "598  0.187987  0.269461  0\n",
       "599  0.770055  0.103789  0\n",
       "\n",
       "[600 rows x 3 columns]"
      ]
     },
     "execution_count": 7,
     "metadata": {},
     "output_type": "execute_result"
    }
   ],
   "source": [
    "data"
   ]
  },
  {
   "cell_type": "code",
   "execution_count": 37,
   "id": "dcf4efdf",
   "metadata": {},
   "outputs": [
    {
     "data": {
      "text/plain": [
       "<matplotlib.collections.PathCollection at 0x24e24d36820>"
      ]
     },
     "execution_count": 37,
     "metadata": {},
     "output_type": "execute_result"
    },
    {
     "data": {
      "image/png": "[encoded data removed]",
      "text/plain": [
       "<Figure size 432x288 with 1 Axes>"
      ]
     },
     "metadata": {
      "needs_background": "light"
     },
     "output_type": "display_data"
    }
   ],
   "source": [
    "plt.scatter(data.x1, data.x2, color='blue')\n",
    "#data[data.y==1].plot(kind='scatter', ax=ax, x='x1', y='x2', color='blue')\n",
    "#data[data.y==0].plot(kind='scatter', ax=ax, x='x1', y='x2', color='red')"
   ]
  },
  {
   "cell_type": "code",
   "execution_count": null,
   "id": "95c14756",
   "metadata": {},
   "outputs": [],
   "source": []
  },
  {
   "cell_type": "markdown",
   "id": "d0e5771e",
   "metadata": {},
   "source": [
    "## Multilayer perceptron"
   ]
  },
  {
   "cell_type": "markdown",
   "id": "76ffd3bc",
   "metadata": {},
   "source": [
    "How does Multilayer Perceptron work?\n",
    "We can summarize the operation of the perceptron as follows it:\n",
    "\n",
    "- Step 1: Initialize the weights and bias with small-randomized values;\n",
    "- Step 2: Propagate all values in the input layer until output layer (Forward Propagation)\n",
    "- Step 3: Update weight and bias in the inner layers (Backpropagation)\n",
    "- Step 4: Do it until that the stop criterion is satisfied !"
   ]
  }
 ],
 "metadata": {
  "kernelspec": {
   "display_name": "Python 3.9.7 64-bit",
   "language": "python",
   "name": "python3"
  },
  "language_info": {
   "codemirror_mode": {
    "name": "ipython",
    "version": 3
   },
   "file_extension": ".py",
   "mimetype": "text/x-python",
   "name": "python",
   "nbconvert_exporter": "python",
   "pygments_lexer": "ipython3",
   "version": "3.9.7"
  },
  "vscode": {
   "interpreter": {
    "hash": "0e24574177cad37ba553d8c5a57d29f96a4acdde5fe9542a1168e24452668950"
   }
  }
 },
 "nbformat": 4,
 "nbformat_minor": 5
}
